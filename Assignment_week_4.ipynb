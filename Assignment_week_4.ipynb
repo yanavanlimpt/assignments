{
 "cells": [
  {
   "cell_type": "code",
   "execution_count": null,
   "metadata": {
    "collapsed": true
   },
   "outputs": [],
   "source": []
  },
  {
   "cell_type": "code",
   "execution_count": null,
   "metadata": {
    "collapsed": true
   },
   "outputs": [],
   "source": []
  },
  {
   "cell_type": "markdown",
   "metadata": {},
   "source": [
    "# Assignment for week 4\n",
    "\n",
    "Use the following table to provide us with\n",
    "\n",
    "|name | exam number|\n",
    "|----|----|\n",
    "|Yana van Limpt| ANR: 188908 SNR: 1279467|\n",
    "|Cheyenne Ramada| ANR: 577304 SNR: 1279250|"
   ]
  },
  {
   "cell_type": "markdown",
   "metadata": {
    "collapsed": true
   },
   "source": [
    "In this assignment, we will play around with functions and use the `fsolve` routine to solve an equation.\n",
    "\n",
    "First, we need to import some libraries.\n",
    "\n",
    "Recall that you need to have installed plotly for this to work. Further, you need to register at the plotly website."
   ]
  },
  {
   "cell_type": "code",
   "execution_count": null,
   "metadata": {
    "collapsed": true
   },
   "outputs": [],
   "source": [
    "from scipy import optimize\n",
    "\n",
    "from plotly.offline import download_plotlyjs, init_notebook_mode, plot, iplot\n",
    "from plotly.graph_objs import Bar, Scatter, Figure, Layout\n",
    "init_notebook_mode(connected=True)\n",
    "from numpy import arange\n"
   ]
  },
  {
   "cell_type": "markdown",
   "metadata": {},
   "source": [
    "Let us define the function $f(x) = x^2+c$ which is a function of $x$ for a given value of $c$."
   ]
  },
  {
   "cell_type": "markdown",
   "metadata": {
    "collapsed": true
   },
   "source": [
    "def my_function(x,c):\n",
    "    return x**2 + c"
   ]
  },
  {
   "cell_type": "markdown",
   "metadata": {},
   "source": [
    "Now we would like to solve $x^2 + c =0$. As this is a simple equation, you can this analytically. This helps us to understand how `fsolve` works.\n",
    "\n",
    "If you want to know more about `fsolve`, simply google \"python fsolve\".\n",
    "\n",
    "For our purposes here, we call `fsolve` as `optimize.fsolve`, then we give a function and an initial value where `fsolve` starts looking for a solution. `fsolve` uses numerical techniques to find the \"zero\" of a function; it does not solve the equation analytically. Roughly speaking, it looks at a value of $x$ whether it is above or below 0. If it is below 0, it needs to change $x$ in such a way that $f(x)$ increases. It uses the derivative $f'(x)$ to figure out whether it should increase or decrease $x$ to get to $f(x)=0$. So suppose that $f(x) < 0$ and $f'(x) >0$ then it will increase $x$ (move to the right) to a solution to $f(x) =0$.\n",
    "\n",
    "As `my_function` is actually a function of two variables ($x$ and $c$), we define a new \"anonymous\" function `lambda` that is only a function of $x$ and we solve for this function to 0. Say, we start looking for a solution at $x=1$, then we type:"
   ]
  },
  {
   "cell_type": "code",
   "execution_count": 3,
   "metadata": {
    "collapsed": false
   },
   "outputs": [
    {
     "data": {
      "text/plain": [
       "array([ 1.41421356])"
      ]
     },
     "execution_count": 3,
     "metadata": {},
     "output_type": "execute_result"
    }
   ],
   "source": [
    "optimize.fsolve(lambda x: my_function(x,-2),+1)"
   ]
  },
  {
   "cell_type": "markdown",
   "metadata": {},
   "source": [
    "This only gives one solution? But with a quadratic equation, there are usually two solutions. In the following cell give the python command to give the other solution:"
   ]
  },
  {
   "cell_type": "markdown",
   "metadata": {
    "collapsed": true
   },
   "source": [
    "optimize.fsolve(lambda x: my_function(x,-2),-1)"
   ]
  },
  {
   "cell_type": "markdown",
   "metadata": {},
   "source": [
    "Now try the following cell. Explain below why you get an error message; $x=0$ does not solve this equation?"
   ]
  },
  {
   "cell_type": "code",
   "execution_count": 4,
   "metadata": {
    "collapsed": false
   },
   "outputs": [
    {
     "name": "stderr",
     "output_type": "stream",
     "text": [
      "//anaconda/envs/py35/lib/python3.5/site-packages/scipy/optimize/minpack.py:161: RuntimeWarning: The iteration is not making good progress, as measured by the \n",
      "  improvement from the last ten iterations.\n",
      "  warnings.warn(msg, RuntimeWarning)\n"
     ]
    },
    {
     "data": {
      "text/plain": [
       "array([ 0.])"
      ]
     },
     "execution_count": 4,
     "metadata": {},
     "output_type": "execute_result"
    }
   ],
   "source": [
    "optimize.fsolve(lambda x: my_function(x,-2),0)"
   ]
  },
  {
   "cell_type": "markdown",
   "metadata": {},
   "source": [
    "Since we defined that f(x) has to increase or decrease if f(x) = 0. If you put the derivative equal to a non-zero value, you'll either get a positive (increasing) or negative (decreasing) value. When you'd equal lambda to 0, there wouldn't be an increase, nor a decrease."
   ]
  },
  {
   "cell_type": "markdown",
   "metadata": {},
   "source": [
    "Now we let's consider another function, with $c = 2$ (instead of $c = -2$). Explain below why we get an error this time"
   ]
  },
  {
   "cell_type": "code",
   "execution_count": 5,
   "metadata": {
    "collapsed": false
   },
   "outputs": [
    {
     "name": "stderr",
     "output_type": "stream",
     "text": [
      "//anaconda/envs/py35/lib/python3.5/site-packages/scipy/optimize/minpack.py:161: RuntimeWarning: The iteration is not making good progress, as measured by the \n",
      "  improvement from the last ten iterations.\n",
      "  warnings.warn(msg, RuntimeWarning)\n"
     ]
    },
    {
     "data": {
      "text/plain": [
       "array([-0.00097656])"
      ]
     },
     "execution_count": 5,
     "metadata": {},
     "output_type": "execute_result"
    }
   ],
   "source": [
    "optimize.fsolve(lambda x: my_function(x,2),-1)"
   ]
  },
  {
   "cell_type": "markdown",
   "metadata": {},
   "source": [
    "There should be a 'plus' sign in front of 2. "
   ]
  },
  {
   "cell_type": "markdown",
   "metadata": {},
   "source": [
    "Now define the function $f(x) = \\frac{1}{x}$ in python:"
   ]
  },
  {
   "cell_type": "code",
   "execution_count": 9,
   "metadata": {
    "collapsed": false,
    "scrolled": true
   },
   "outputs": [],
   "source": [
    "def f(x): \n",
    "    return '1/x'"
   ]
  },
  {
   "cell_type": "markdown",
   "metadata": {},
   "source": [
    "and use plotly to plot this function for $x > 0$. Adjust the range for $x$ so that you get a \"decent\" graph."
   ]
  },
  {
   "cell_type": "code",
   "execution_count": 13,
   "metadata": {
    "collapsed": false
   },
   "outputs": [
    {
     "ename": "NameError",
     "evalue": "name 'iplot' is not defined",
     "output_type": "error",
     "traceback": [
      "\u001b[0;31m---------------------------------------------------------------------------\u001b[0m",
      "\u001b[0;31mNameError\u001b[0m                                 Traceback (most recent call last)",
      "\u001b[0;32m<ipython-input-13-5b42865dbb29>\u001b[0m in \u001b[0;36m<module>\u001b[0;34m()\u001b[0m\n\u001b[1;32m      1\u001b[0m \u001b[0mrange_x\u001b[0m \u001b[0;34m=\u001b[0m \u001b[0marange\u001b[0m\u001b[0;34m(\u001b[0m\u001b[0;36m0\u001b[0m\u001b[0;34m,\u001b[0m \u001b[0;36m100\u001b[0m\u001b[0;34m)\u001b[0m\u001b[0;34m\u001b[0m\u001b[0m\n\u001b[0;32m----> 2\u001b[0;31m \u001b[0miplot\u001b[0m\u001b[0;34m(\u001b[0m\u001b[0;34m[\u001b[0m\u001b[0;34m{\u001b[0m\u001b[0;34m\"x\"\u001b[0m\u001b[0;34m:\u001b[0m \u001b[0mrange_x\u001b[0m\u001b[0;34m,\u001b[0m \u001b[0;34m\"y\"\u001b[0m\u001b[0;34m:\u001b[0m \u001b[0;34m[\u001b[0m\u001b[0;34m'1/x'\u001b[0m \u001b[0;32mfor\u001b[0m \u001b[0mx\u001b[0m \u001b[0;32min\u001b[0m \u001b[0mrange_x\u001b[0m\u001b[0;34m]\u001b[0m\u001b[0;34m}\u001b[0m\u001b[0;34m]\u001b[0m\u001b[0;34m)\u001b[0m\u001b[0;34m\u001b[0m\u001b[0m\n\u001b[0m",
      "\u001b[0;31mNameError\u001b[0m: name 'iplot' is not defined"
     ]
    }
   ],
   "source": [
    "range_x = arange(0, 100) \n",
    "iplot([{\"x\": range_x, \"y\": ['1/x' for x in range_x]}])\n"
   ]
  },
  {
   "cell_type": "markdown",
   "metadata": {},
   "source": []
  },
  {
   "cell_type": "markdown",
   "metadata": {},
   "source": []
  },
  {
   "cell_type": "code",
   "execution_count": null,
   "metadata": {
    "collapsed": true
   },
   "outputs": [],
   "source": []
  }
 ],
 "metadata": {
  "anaconda-cloud": {},
  "kernelspec": {
   "display_name": "Python 3",
   "language": "python",
   "name": "python3"
  },
  "language_info": {
   "codemirror_mode": {
    "name": "ipython",
    "version": 3
   },
   "file_extension": ".py",
   "mimetype": "text/x-python",
   "name": "python",
   "nbconvert_exporter": "python",
   "pygments_lexer": "ipython3",
   "version": "3.6.0"
  }
 },
 "nbformat": 4,
 "nbformat_minor": 0
}
